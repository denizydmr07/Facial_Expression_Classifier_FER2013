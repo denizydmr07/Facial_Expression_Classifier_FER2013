{
 "cells": [
  {
   "cell_type": "code",
   "execution_count": 3,
   "metadata": {},
   "outputs": [
    {
     "name": "stderr",
     "output_type": "stream",
     "text": [
      "2023-08-12 09:44:36.026498: I tensorflow/tsl/cuda/cudart_stub.cc:28] Could not find cuda drivers on your machine, GPU will not be used.\n",
      "2023-08-12 09:44:36.080264: I tensorflow/tsl/cuda/cudart_stub.cc:28] Could not find cuda drivers on your machine, GPU will not be used.\n",
      "2023-08-12 09:44:36.080905: I tensorflow/core/platform/cpu_feature_guard.cc:182] This TensorFlow binary is optimized to use available CPU instructions in performance-critical operations.\n",
      "To enable the following instructions: AVX2 FMA, in other operations, rebuild TensorFlow with the appropriate compiler flags.\n",
      "2023-08-12 09:44:37.406101: W tensorflow/compiler/tf2tensorrt/utils/py_utils.cc:38] TF-TRT Warning: Could not find TensorRT\n"
     ]
    }
   ],
   "source": [
    "import tensorflow as tf\n",
    "import numpy as np"
   ]
  },
  {
   "cell_type": "code",
   "execution_count": 4,
   "metadata": {},
   "outputs": [],
   "source": [
    "model = tf.keras.models.load_model('model_w_best_val_acc_ver3.h5')"
   ]
  },
  {
   "cell_type": "code",
   "execution_count": 5,
   "metadata": {},
   "outputs": [],
   "source": [
    "def decode_pred(pred):\n",
    "    arr=[\"Angry\",\"Disgust\",\"Fear\",\"Happy\",\"Sad\",\"Surprise\",\"Neutral\"]\n",
    "    return arr[np.argmax(pred)]"
   ]
  },
  {
   "cell_type": "code",
   "execution_count": 7,
   "metadata": {},
   "outputs": [
    {
     "name": "stdout",
     "output_type": "stream",
     "text": [
      "1/1 [==============================] - 0s 253ms/step\n",
      "Sad\n"
     ]
    }
   ],
   "source": [
    "# load img ww.png and predict the emotion, but resize beforehand and make the image black and white\n",
    "# the model is trained on 48x48 pixel images, so we need to resize the image to 48x48 pixels\n",
    "# and convert it to black and white\n",
    "\n",
    "# load the image\n",
    "img = tf.keras.preprocessing.image.load_img(\"images/gus.png\", color_mode=\"grayscale\", target_size=(48, 48))\n",
    "\n",
    "# making the image black and white RGB\n",
    "img = img.convert(\"RGB\")\n",
    "\n",
    "# convert the image to a numpy array\n",
    "img_array = tf.keras.preprocessing.image.img_to_array(img)\n",
    "\n",
    "# add a fourth dimension to the image (since Keras expects a list of images, not a single image)\n",
    "img_array = np.expand_dims(img_array, axis=0)\n",
    "\n",
    "# preprocess function of vgg16 to scale pixels\n",
    "img_array = tf.keras.applications.vgg16.preprocess_input(img_array)\n",
    "# make a prediction using the model\n",
    "prediction = model.predict(img_array)\n",
    "\n",
    "# show the prediction\n",
    "print(decode_pred(prediction))"
   ]
  },
  {
   "cell_type": "code",
   "execution_count": null,
   "metadata": {},
   "outputs": [],
   "source": []
  }
 ],
 "metadata": {
  "kernelspec": {
   "display_name": "Python 3",
   "language": "python",
   "name": "python3"
  },
  "language_info": {
   "codemirror_mode": {
    "name": "ipython",
    "version": 3
   },
   "file_extension": ".py",
   "mimetype": "text/x-python",
   "name": "python",
   "nbconvert_exporter": "python",
   "pygments_lexer": "ipython3",
   "version": "3.10.12"
  },
  "orig_nbformat": 4
 },
 "nbformat": 4,
 "nbformat_minor": 2
}
